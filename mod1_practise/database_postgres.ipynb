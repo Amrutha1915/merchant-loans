{
 "cells": [
  {
   "cell_type": "markdown",
   "metadata": {},
   "source": [
    "Importing Modules\n",
    "\n",
    "Python modules are files containing Python code (functions, variables, classes). Modules can be built-in, third-party, or user-defined."
   ]
  },
  {
   "cell_type": "code",
<<<<<<< HEAD
   "execution_count": 4,
=======
   "execution_count": 30,
>>>>>>> 7a27871b3e391d78eec75e1fb2aa71342721236b
   "metadata": {},
   "outputs": [
    {
     "name": "stdout",
     "output_type": "stream",
     "text": [
      "4.0\n",
      "3.141592653589793\n",
      "False\n",
      "False\n",
<<<<<<< HEAD
      "['c:\\\\Users\\\\harsh\\\\AppData\\\\Local\\\\Programs\\\\Python\\\\Python313\\\\python313.zip', 'c:\\\\Users\\\\harsh\\\\AppData\\\\Local\\\\Programs\\\\Python\\\\Python313\\\\DLLs', 'c:\\\\Users\\\\harsh\\\\AppData\\\\Local\\\\Programs\\\\Python\\\\Python313\\\\Lib', 'c:\\\\Users\\\\harsh\\\\AppData\\\\Local\\\\Programs\\\\Python\\\\Python313', '', 'C:\\\\Users\\\\harsh\\\\AppData\\\\Roaming\\\\Python\\\\Python313\\\\site-packages', 'C:\\\\Users\\\\harsh\\\\AppData\\\\Roaming\\\\Python\\\\Python313\\\\site-packages\\\\win32', 'C:\\\\Users\\\\harsh\\\\AppData\\\\Roaming\\\\Python\\\\Python313\\\\site-packages\\\\win32\\\\lib', 'C:\\\\Users\\\\harsh\\\\AppData\\\\Roaming\\\\Python\\\\Python313\\\\site-packages\\\\Pythonwin', 'c:\\\\Users\\\\harsh\\\\AppData\\\\Local\\\\Programs\\\\Python\\\\Python313\\\\Lib\\\\site-packages']\n"
=======
      "['/opt/homebrew/Cellar/python@3.11/3.11.11/Frameworks/Python.framework/Versions/3.11/lib/python311.zip', '/opt/homebrew/Cellar/python@3.11/3.11.11/Frameworks/Python.framework/Versions/3.11/lib/python3.11', '/opt/homebrew/Cellar/python@3.11/3.11.11/Frameworks/Python.framework/Versions/3.11/lib/python3.11/lib-dynload', '', '/Users/gopikrishnapinninti/Library/Python/3.11/lib/python/site-packages', '/opt/homebrew/lib/python3.11/site-packages']\n"
>>>>>>> 7a27871b3e391d78eec75e1fb2aa71342721236b
     ]
    }
   ],
   "source": [
    "import math\n",
    "print(math.sqrt(16))\n",
    "\n",
    "\n",
    "from math import pi\n",
    "print(pi)\n",
    "\n",
    "import os\n",
    "print(os.path.isdir('new_folder'))\n",
    "\n",
    "print(os.path.exists(os.path.join(os.getcwd(), 'new_folder', 'file.txt')))\n",
    "\n",
    "import sys\n",
    "print(sys.path)"
   ]
  },
  {
   "cell_type": "markdown",
   "metadata": {},
   "source": [
    "Creating and Importing a Custom Module\n",
    "\n",
    "Create a Python file users.py:"
   ]
  },
  {
   "cell_type": "code",
   "execution_count": 23,
   "metadata": {},
   "outputs": [],
   "source": [
    "import members"
   ]
  },
  {
   "cell_type": "code",
   "execution_count": 5,
   "metadata": {},
   "outputs": [
    {
     "name": "stdout",
     "output_type": "stream",
     "text": [
      "Hello, AITraining!\n"
     ]
    }
   ],
   "source": [
    "import members\n",
    "print(members.greet(\"AITraining\"))"
   ]
  },
  {
   "cell_type": "code",
   "execution_count": 6,
   "metadata": {},
   "outputs": [
    {
     "name": "stdout",
     "output_type": "stream",
     "text": [
      "Collecting pandasNote: you may need to restart the kernel to use updated packages.\n",
      "\n",
      "  Downloading pandas-2.2.3-cp313-cp313-win_amd64.whl.metadata (19 kB)\n",
      "Collecting numpy>=1.26.0 (from pandas)\n",
      "  Downloading numpy-2.2.2-cp313-cp313-win_amd64.whl.metadata (60 kB)\n",
      "Requirement already satisfied: python-dateutil>=2.8.2 in c:\\users\\harsh\\appdata\\roaming\\python\\python313\\site-packages (from pandas) (2.9.0.post0)\n",
      "Collecting pytz>=2020.1 (from pandas)\n",
      "  Using cached pytz-2025.1-py2.py3-none-any.whl.metadata (22 kB)\n",
      "Collecting tzdata>=2022.7 (from pandas)\n",
      "  Using cached tzdata-2025.1-py2.py3-none-any.whl.metadata (1.4 kB)\n",
      "Requirement already satisfied: six>=1.5 in c:\\users\\harsh\\appdata\\roaming\\python\\python313\\site-packages (from python-dateutil>=2.8.2->pandas) (1.17.0)\n",
      "Downloading pandas-2.2.3-cp313-cp313-win_amd64.whl (11.5 MB)\n",
      "   ---------------------------------------- 0.0/11.5 MB ? eta -:--:--\n",
      "   --- ------------------------------------ 1.0/11.5 MB 9.3 MB/s eta 0:00:02\n",
      "   ------------- -------------------------- 3.9/11.5 MB 9.9 MB/s eta 0:00:01\n",
      "   --------------------- ------------------ 6.3/11.5 MB 10.5 MB/s eta 0:00:01\n",
      "   ------------------------------ --------- 8.7/11.5 MB 10.7 MB/s eta 0:00:01\n",
      "   ------------------------------------- -- 10.7/11.5 MB 10.7 MB/s eta 0:00:01\n",
      "   ---------------------------------------  11.3/11.5 MB 10.8 MB/s eta 0:00:01\n",
      "   ---------------------------------------  11.3/11.5 MB 10.8 MB/s eta 0:00:01\n",
      "   ---------------------------------------- 11.5/11.5 MB 7.9 MB/s eta 0:00:00\n",
      "Downloading numpy-2.2.2-cp313-cp313-win_amd64.whl (12.6 MB)\n",
      "   ---------------------------------------- 0.0/12.6 MB ? eta -:--:--\n",
      "   ------- -------------------------------- 2.4/12.6 MB 11.2 MB/s eta 0:00:01\n",
      "   -------------- ------------------------- 4.5/12.6 MB 11.6 MB/s eta 0:00:01\n",
      "   ---------------------- ----------------- 7.1/12.6 MB 11.1 MB/s eta 0:00:01\n",
      "   ----------------------------- ---------- 9.2/12.6 MB 11.2 MB/s eta 0:00:01\n",
      "   -------------------------------------- - 12.1/12.6 MB 11.0 MB/s eta 0:00:01\n",
      "   ---------------------------------------  12.6/12.6 MB 11.0 MB/s eta 0:00:01\n",
      "   ---------------------------------------- 12.6/12.6 MB 9.0 MB/s eta 0:00:00\n",
      "Using cached pytz-2025.1-py2.py3-none-any.whl (507 kB)\n",
      "Using cached tzdata-2025.1-py2.py3-none-any.whl (346 kB)\n",
      "Installing collected packages: pytz, tzdata, numpy, pandas\n",
      "Successfully installed numpy-2.2.2 pandas-2.2.3 pytz-2025.1 tzdata-2025.1\n"
     ]
    },
    {
     "name": "stderr",
     "output_type": "stream",
     "text": [
      "\n",
      "[notice] A new release of pip is available: 25.0 -> 25.0.1\n",
      "[notice] To update, run: python.exe -m pip install --upgrade pip\n"
     ]
    }
   ],
   "source": [
    "%pip install pandas "
   ]
  },
  {
   "cell_type": "markdown",
   "metadata": {},
   "source": [
    "Installing Third-Party Modules\n",
    "\n",
    "Python provides thousands of modules via pip:"
   ]
  },
  {
   "cell_type": "code",
<<<<<<< HEAD
   "execution_count": 7,
=======
   "execution_count": 4,
>>>>>>> 7a27871b3e391d78eec75e1fb2aa71342721236b
   "metadata": {},
   "outputs": [
    {
     "name": "stdout",
     "output_type": "stream",
     "text": [
      "Collecting psycopg2-binary\n",
      "  Using cached psycopg2_binary-2.9.10-cp313-cp313-win_amd64.whl.metadata (4.8 kB)\n",
      "Using cached psycopg2_binary-2.9.10-cp313-cp313-win_amd64.whl (2.6 MB)\n",
      "Installing collected packages: psycopg2-binary\n",
      "Successfully installed psycopg2-binary-2.9.10\n",
      "Note: you may need to restart the kernel to use updated packages.\n"
     ]
    },
    {
     "name": "stderr",
     "output_type": "stream",
     "text": [
      "\n",
      "[notice] A new release of pip is available: 25.0 -> 25.0.1\n",
      "[notice] To update, run: python.exe -m pip install --upgrade pip\n"
     ]
    },
    {
     "name": "stdout",
     "output_type": "stream",
     "text": [
      "Requirement already satisfied: sqlalchemy in c:\\users\\harsh\\appdata\\local\\programs\\python\\python313\\lib\\site-packages (2.0.38)\n",
      "Requirement already satisfied: greenlet!=0.4.17 in c:\\users\\harsh\\appdata\\local\\programs\\python\\python313\\lib\\site-packages (from sqlalchemy) (3.1.1)\n",
      "Requirement already satisfied: typing-extensions>=4.6.0 in c:\\users\\harsh\\appdata\\local\\programs\\python\\python313\\lib\\site-packages (from sqlalchemy) (4.12.2)\n",
      "Note: you may need to restart the kernel to use updated packages.\n"
     ]
    },
    {
     "name": "stderr",
     "output_type": "stream",
     "text": [
      "\n",
      "[notice] A new release of pip is available: 25.0 -> 25.0.1\n",
      "[notice] To update, run: python.exe -m pip install --upgrade pip\n"
     ]
    }
   ],
   "source": [
    "%pip install psycopg2-binary\n",
    "#%pip install psycopg2\n",
    "%pip install sqlalchemy\n",
    "#%pip install mysql_connector_python\n",
    "#%pip install mysqlclient"
   ]
  },
  {
   "cell_type": "markdown",
   "metadata": {},
   "source": [
    "Establishing a Database Connection\n",
    "\n",
    "To connect Python to PostgreSQL, use the connect() method from the psycopg2 library:"
   ]
  },
  {
   "cell_type": "code",
<<<<<<< HEAD
   "execution_count": 11,
=======
   "execution_count": 31,
   "metadata": {},
   "outputs": [],
   "source": [
    "import configparser\n",
    "# Initialize the config parser\n",
    "config = configparser.ConfigParser()\n",
    "config.read('credentials.cfg')\n",
    "import os\n",
    "from dotenv import load_dotenv"
   ]
  },
  {
   "cell_type": "code",
   "execution_count": 32,
>>>>>>> 7a27871b3e391d78eec75e1fb2aa71342721236b
   "metadata": {},
   "outputs": [
    {
     "name": "stdout",
     "output_type": "stream",
     "text": [
      "Database connection successful!\n",
      "PostgreSQL version: ('PostgreSQL 13.18, compiled by Visual C++ build 1942, 64-bit',)\n",
      "Database connection closed.\n"
     ]
    }
   ],
   "source": [
    "import psycopg2\n",
    "\n",
    "# Database connection details\n",
<<<<<<< HEAD
    "DB_NAME = \"postgres\"\n",
    "DB_USER = \"postgres\"\n",
    "DB_PASSWORD = \"Saibaba.1915\"\n",
    "DB_HOST = \"localhost\"  # Change if using a remote server #localhost\n",
    "DB_PORT = \"5433\"       # Default PostgreSQL port\n",
=======
    "# Default PostgreSQL port\n",
>>>>>>> 7a27871b3e391d78eec75e1fb2aa71342721236b
    "# Establishing the connection\n",
    "try:\n",
    "    connection = psycopg2.connect(\n",
    "        dbname=config['postgres']['DB_NAME'],\n",
    "        user=config['postgres']['DB_USER'],\n",
    "        password=config['postgres']['DB_PASSWORD'],\n",
    "        host=config['postgres']['DB_HOST'],\n",
    "        port=config['postgres']['DB_PORT'],\n",
    "        sslmode=\"require\"\n",
    "    )\n",
    "    print(\"Database connection successful!\")\n",
    "except Exception as e:\n",
    "    print(\"Error connecting to the database:\", e)\n",
    "\n",
    "#2.3 Creating a Cursor Object and Executing Queries\n",
    "#Once connected, a cursor object is used to execute SQL queries:\n",
    "\n",
    "cursor = connection.cursor()\n",
    "cursor.execute(\"SELECT version();\")\n",
    "print(\"PostgreSQL version:\", cursor.fetchone())\n",
    "\n",
    "#2.4 Closing the Connection\n",
    "#After performing database operations, always close* the connection:\n",
    "cursor.close()\n",
    "connection.close()\n",
    "print(\"Database connection closed.\")"
   ]
  },
  {
   "cell_type": "code",
<<<<<<< HEAD
   "execution_count": 27,
   "metadata": {},
   "outputs": [
    {
     "ename": "InFailedSqlTransaction",
     "evalue": "current transaction is aborted, commands ignored until end of transaction block\n",
     "output_type": "error",
     "traceback": [
      "\u001b[1;31m---------------------------------------------------------------------------\u001b[0m",
      "\u001b[1;31mInFailedSqlTransaction\u001b[0m                    Traceback (most recent call last)",
      "Cell \u001b[1;32mIn[27], line 10\u001b[0m\n\u001b[0;32m      7\u001b[0m last_name \u001b[38;5;241m=\u001b[39m \u001b[38;5;28minput\u001b[39m(\u001b[38;5;124m\"\u001b[39m\u001b[38;5;124mEnter last name of the member\u001b[39m\u001b[38;5;124m\"\u001b[39m)\n\u001b[0;32m      8\u001b[0m gender \u001b[38;5;241m=\u001b[39m \u001b[38;5;28minput\u001b[39m(\u001b[38;5;124m\"\u001b[39m\u001b[38;5;124mENter gender of the member\u001b[39m\u001b[38;5;124m\"\u001b[39m)\n\u001b[1;32m---> 10\u001b[0m \u001b[43mcreate_member\u001b[49m\u001b[43m(\u001b[49m\u001b[43mconnection\u001b[49m\u001b[43m,\u001b[49m\u001b[43m \u001b[49m\u001b[43mfirst_name\u001b[49m\u001b[43m,\u001b[49m\u001b[43m \u001b[49m\u001b[43mlast_name\u001b[49m\u001b[43m,\u001b[49m\u001b[43m \u001b[49m\u001b[43mgender\u001b[49m\u001b[43m)\u001b[49m\n\u001b[0;32m     13\u001b[0m connection \u001b[38;5;241m=\u001b[39m psycopg2\u001b[38;5;241m.\u001b[39mconnect(\n\u001b[0;32m     14\u001b[0m dbname\u001b[38;5;241m=\u001b[39m config[\u001b[38;5;124m'\u001b[39m\u001b[38;5;124mpostgres\u001b[39m\u001b[38;5;124m'\u001b[39m][\u001b[38;5;124m'\u001b[39m\u001b[38;5;124mDB_NAME\u001b[39m\u001b[38;5;124m'\u001b[39m],\n\u001b[0;32m     15\u001b[0m           user\u001b[38;5;241m=\u001b[39mconfig[\u001b[38;5;124m'\u001b[39m\u001b[38;5;124mpostgres\u001b[39m\u001b[38;5;124m'\u001b[39m][\u001b[38;5;124m'\u001b[39m\u001b[38;5;124mDB_USER\u001b[39m\u001b[38;5;124m'\u001b[39m],\n\u001b[1;32m   (...)\u001b[0m\n\u001b[0;32m     19\u001b[0m           sslmode\u001b[38;5;241m=\u001b[39m \u001b[38;5;124m'\u001b[39m\u001b[38;5;124mrequire\u001b[39m\u001b[38;5;124m'\u001b[39m\n\u001b[0;32m     20\u001b[0m         )\n\u001b[0;32m     21\u001b[0m results \u001b[38;5;241m=\u001b[39m retrieve_members(connection \u001b[38;5;241m=\u001b[39m connection, email\u001b[38;5;241m=\u001b[39m email)\n",
      "File \u001b[1;32mc:\\Development\\AIML\\Practice\\merchant-loans\\mod1_practise\\members.py:8\u001b[0m, in \u001b[0;36mcreate_member\u001b[1;34m(connection, first_name, last_name, gender)\u001b[0m\n\u001b[0;32m      6\u001b[0m \u001b[38;5;28;01mdef\u001b[39;00m\u001b[38;5;250m \u001b[39m\u001b[38;5;21mcreate_member\u001b[39m(connection, first_name, last_name, gender:\u001b[38;5;28;01mNone\u001b[39;00m):\n\u001b[0;32m      7\u001b[0m     cursor \u001b[38;5;241m=\u001b[39m connection\u001b[38;5;241m.\u001b[39mcursor()\n\u001b[1;32m----> 8\u001b[0m     \u001b[43mcursor\u001b[49m\u001b[38;5;241;43m.\u001b[39;49m\u001b[43mexecute\u001b[49m\u001b[43m(\u001b[49m\u001b[38;5;124;43mf\u001b[39;49m\u001b[38;5;124;43m\"\"\"\u001b[39;49m\n\u001b[0;32m      9\u001b[0m \u001b[38;5;124;43m    INSERT INTO members (fname, lname, gender)\u001b[39;49m\n\u001b[0;32m     10\u001b[0m \u001b[38;5;124;43m    VALUES (%s, %s, %s);\u001b[39;49m\n\u001b[0;32m     11\u001b[0m \u001b[38;5;124;43m    \u001b[39;49m\u001b[38;5;124;43m\"\"\"\u001b[39;49m\u001b[43m,\u001b[49m\u001b[43m \u001b[49m\u001b[43m(\u001b[49m\u001b[43mfirst_name\u001b[49m\u001b[43m,\u001b[49m\u001b[43mlast_name\u001b[49m\u001b[43m,\u001b[49m\u001b[43m \u001b[49m\u001b[43mgender\u001b[49m\u001b[43m)\u001b[49m\u001b[43m)\u001b[49m\n\u001b[0;32m     12\u001b[0m     connection\u001b[38;5;241m.\u001b[39mcommit()\n\u001b[0;32m     13\u001b[0m     \u001b[38;5;66;03m#id = cursor.fetchone()[0]\u001b[39;00m\n",
      "\u001b[1;31mInFailedSqlTransaction\u001b[0m: current transaction is aborted, commands ignored until end of transaction block\n"
=======
   "execution_count": 33,
   "metadata": {},
   "outputs": [
    {
     "name": "stdout",
     "output_type": "stream",
     "text": [
      "Database connection successful!\n",
      "Database connection successful!\n",
      "Table created successfully!\n",
      "Table created successfully!\n",
      "Table created successfully!\n",
      "(1, 'raj', 'new', 'one@gmail.com', None, None, datetime.datetime(2025, 2, 10, 21, 23, 13, 804506))\n",
      "1\n",
      "(2, 'one', 'test', 'onea@gmail.com', None, None, datetime.datetime(2025, 2, 10, 21, 25, 51, 221159))\n",
      "2\n",
      "(3, 'test', 'lna', 'oneb@gmail.com', None, None, datetime.datetime(2025, 2, 10, 21, 34, 51, 620334))\n",
      "3\n",
      "(5, 'one', 'onel', 'oned@gmail.com', None, None, datetime.datetime(2025, 2, 10, 21, 37, 41, 883804))\n",
      "5\n",
      "(2, 'one', 'test', 'onea@gmail.com', None, None, datetime.datetime(2025, 2, 10, 21, 25, 51, 221159))\n",
      "2\n"
>>>>>>> 7a27871b3e391d78eec75e1fb2aa71342721236b
     ]
    },
    {
     "data": {
      "text/plain": [
       "[(2,\n",
       "  'one',\n",
       "  'test',\n",
       "  'onea@gmail.com',\n",
       "  None,\n",
       "  None,\n",
       "  datetime.datetime(2025, 2, 10, 21, 25, 51, 221159))]"
      ]
     },
     "execution_count": 33,
     "metadata": {},
     "output_type": "execute_result"
    }
   ],
   "source": [
    "\n",
<<<<<<< HEAD
    "import configparser\n",
    "# Initialize the config parser\n",
    "config = configparser.ConfigParser()\n",
    "config.read('credentials.cfg')\n",
    "\n",
=======
    "from members import create_member, retrieve_members, update_member, delete_member\n",
    "from transactions import create_transaction, retrieve_transactions\n",
    "try:\n",
    "    \n",
    "    connection = psycopg2.connect(\n",
    "            dbname=config['postgres']['DB_NAME'],\n",
    "            user=config['postgres']['DB_USER'],\n",
    "            password=config['postgres']['DB_PASSWORD'],\n",
    "            host=config['postgres']['DB_HOST'],\n",
    "            port=config['postgres']['DB_PORT'],\n",
    "            sslmode= 'require'\n",
    "        )\n",
    "    print(\"Database connection successful!\")\n",
    "    print(\"Database connection successful!\")\n",
    "except Exception as e:\n",
    "    print(\"Error connecting to the database:\", e)\n",
    "\n",
    "create_table(connection = connection, table_name=\"members\")\n",
    "\n",
    "create_table( table_name=\"members\", connection = connection)\n",
    "\n",
    "create_table(connection, \"transactions\")\n",
    "\n",
    "retrieve_members(connection)\n",
    "retrieve_members(connection = connection, email= 'onea@gmail.com')\n",
    "#create_table(\"accounts\", connection) # valid or invalid? #run is not successful"
   ]
  },
  {
   "cell_type": "code",
   "execution_count": 19,
   "metadata": {},
   "outputs": [
    {
     "name": "stdout",
     "output_type": "stream",
     "text": [
      "(2, 'one', 'test', 'onea@gmail.com', None, None, datetime.datetime(2025, 2, 10, 21, 25, 51, 221159))\n",
      "2\n",
      "Record inserted successfully!: 3\n"
     ]
    }
   ],
   "source": [
>>>>>>> 7a27871b3e391d78eec75e1fb2aa71342721236b
    "first_name = input(\"Enter first name of the member\")\n",
    "last_name = input(\"Enter last name of the member\")\n",
    "email = input(\"ENter email of the member\")\n",
    "amount = input(\"Please enter amount of the transaction\")\n",
    "desc = input(\"Please enter description of the transcation\")\n",
    "\n",
    "connection = psycopg2.connect(\n",
    "            dbname=config['postgres']['DB_NAME'],\n",
    "            user=config['postgres']['DB_USER'],\n",
    "            password=config['postgres']['DB_PASSWORD'],\n",
    "            host=config['postgres']['DB_HOST'],\n",
    "            port=config['postgres']['DB_PORT'],\n",
    "            sslmode= 'require'\n",
    "        )\n",
    "results = retrieve_members(connection = connection, email= email)\n",
    "if(results is None):\n",
    "    member_id = create_member(connection, first_name, last_name, email)\n",
    "else:\n",
    "    member_id=results[0][0]\n",
    "member_id = create_transaction(connection=connection, member_id= member_id, amount= amount, description= desc)"
   ]
  },
  {
   "cell_type": "code",
   "execution_count": 21,
   "metadata": {},
   "outputs": [
    {
     "name": "stdout",
     "output_type": "stream",
     "text": [
      "(2, 'one', 'test', 'onea@gmail.com', None, None, datetime.datetime(2025, 2, 10, 21, 25, 51, 221159))\n",
      "2\n",
      "(3, 2, datetime.datetime(2025, 2, 10, 23, 58, 51, 923287), Decimal('30.00'), 'withdrawal', 'food')\n",
      "(2, 2, datetime.datetime(2025, 2, 10, 21, 44, 1, 62667), Decimal('10.00'), 'withdrawal', 'movie')\n"
     ]
    }
   ],
   "source": [
    "email = input(\"Please enter members email\")\n",
    "\n",
    "results = retrieve_members(connection = connection, email= email)\n",
    "if(results is None):\n",
    "    print(\"no member matched\")\n",
    "else:\n",
    "    member_id=results[0][0]\n",
    "transactions = retrieve_transactions(connection=connection, member_id=member_id)"
   ]
  },
  {
   "cell_type": "code",
   "execution_count": 34,
   "metadata": {},
   "outputs": [
    {
     "name": "stdout",
     "output_type": "stream",
     "text": [
      "Requirement already satisfied: openai in /opt/homebrew/lib/python3.11/site-packages (1.61.1)\n",
      "Requirement already satisfied: anyio<5,>=3.5.0 in /opt/homebrew/lib/python3.11/site-packages (from openai) (4.8.0)\n",
      "Requirement already satisfied: distro<2,>=1.7.0 in /opt/homebrew/lib/python3.11/site-packages (from openai) (1.9.0)\n",
      "Requirement already satisfied: httpx<1,>=0.23.0 in /opt/homebrew/lib/python3.11/site-packages (from openai) (0.28.1)\n",
      "Requirement already satisfied: jiter<1,>=0.4.0 in /opt/homebrew/lib/python3.11/site-packages (from openai) (0.8.2)\n",
      "Requirement already satisfied: pydantic<3,>=1.9.0 in /opt/homebrew/lib/python3.11/site-packages (from openai) (2.10.6)\n",
      "Requirement already satisfied: sniffio in /opt/homebrew/lib/python3.11/site-packages (from openai) (1.3.1)\n",
      "Requirement already satisfied: tqdm>4 in /opt/homebrew/lib/python3.11/site-packages (from openai) (4.67.1)\n",
      "Requirement already satisfied: typing-extensions<5,>=4.11 in /Users/gopikrishnapinninti/Library/Python/3.11/lib/python/site-packages (from openai) (4.12.2)\n",
      "Requirement already satisfied: idna>=2.8 in /opt/homebrew/lib/python3.11/site-packages (from anyio<5,>=3.5.0->openai) (3.10)\n",
      "Requirement already satisfied: certifi in /opt/homebrew/lib/python3.11/site-packages (from httpx<1,>=0.23.0->openai) (2025.1.31)\n",
      "Requirement already satisfied: httpcore==1.* in /opt/homebrew/lib/python3.11/site-packages (from httpx<1,>=0.23.0->openai) (1.0.7)\n",
      "Requirement already satisfied: h11<0.15,>=0.13 in /opt/homebrew/lib/python3.11/site-packages (from httpcore==1.*->httpx<1,>=0.23.0->openai) (0.14.0)\n",
      "Requirement already satisfied: annotated-types>=0.6.0 in /opt/homebrew/lib/python3.11/site-packages (from pydantic<3,>=1.9.0->openai) (0.7.0)\n",
      "Requirement already satisfied: pydantic-core==2.27.2 in /opt/homebrew/lib/python3.11/site-packages (from pydantic<3,>=1.9.0->openai) (2.27.2)\n",
      "\n",
      "\u001b[1m[\u001b[0m\u001b[34;49mnotice\u001b[0m\u001b[1;39;49m]\u001b[0m\u001b[39;49m A new release of pip is available: \u001b[0m\u001b[31;49m24.3.1\u001b[0m\u001b[39;49m -> \u001b[0m\u001b[32;49m25.0\u001b[0m\n",
      "\u001b[1m[\u001b[0m\u001b[34;49mnotice\u001b[0m\u001b[1;39;49m]\u001b[0m\u001b[39;49m To update, run: \u001b[0m\u001b[32;49mpython3.11 -m pip install --upgrade pip\u001b[0m\n",
      "Note: you may need to restart the kernel to use updated packages.\n",
      "env: OPENAI_API_KEY=test\n"
     ]
    }
   ],
   "source": [
    "%pip install openai\n",
    "%env OPENAI_API_KEY=test"
   ]
  },
  {
   "cell_type": "code",
   "execution_count": 29,
   "metadata": {},
   "outputs": [
    {
     "name": "stdout",
     "output_type": "stream",
     "text": [
      "Hello Gopi, how can I assist you today with your transaction details? \n",
      "\n",
      "It looks like you have two transactions on February 10, 2025:\n",
      "\n",
      "1. **Transaction 1:**\n",
      "   - **Description:** [Description not specified]\n",
      "   - **Date:** February 10, 2025\n",
      "   - **Time:** 11:58:51 PM\n",
      "\n",
      "2. **Transaction 2:**\n",
      "   - **Description:** [Description not specified]\n",
      "   - **Date:** February 10, 2025\n",
      "   - **Time:** 9:44:01 PM\n",
      "\n",
      "Please provide me with the specific details you'd like to know about these transactions or any other assistance you require!\n"
     ]
    },
    {
     "data": {
      "text/plain": [
       "\"Hello Gopi, how can I assist you today with your transaction details? \\n\\nIt looks like you have two transactions on February 10, 2025:\\n\\n1. **Transaction 1:**\\n   - **Description:** [Description not specified]\\n   - **Date:** February 10, 2025\\n   - **Time:** 11:58:51 PM\\n\\n2. **Transaction 2:**\\n   - **Description:** [Description not specified]\\n   - **Date:** February 10, 2025\\n   - **Time:** 9:44:01 PM\\n\\nPlease provide me with the specific details you'd like to know about these transactions or any other assistance you require!\""
      ]
     },
     "execution_count": 29,
     "metadata": {},
     "output_type": "execute_result"
    }
   ],
   "source": [
    "formatted_transactions = []\n",
    "for trans in transactions:\n",
    "    new_trans = {\"amount\":trans[3], \"desc\": trans[5], \"datetrans\": trans[2]}\n",
    "    formatted_transactions.append(trans)\n",
    "\n",
    "                \n",
    "from chatgpt_api import summarize_assistant\n",
    "\n",
    "summarize_assistant(\"gopi\", \"test\", formatted_transactions)"
   ]
  },
  {
   "cell_type": "code",
   "execution_count": 28,
   "metadata": {},
   "outputs": [
    {
     "name": "stdout",
     "output_type": "stream",
     "text": [
      "I'm sorry, but I don't have access to real-time data or updates beyond October 2023. Therefore, I cannot provide information on the winner of the Super Bowl in 2025. For the latest sports news, please check a reliable sports news website or search engine.\n"
     ]
    },
    {
     "data": {
      "text/plain": [
       "\"I'm sorry, but I don't have access to real-time data or updates beyond October 2023. Therefore, I cannot provide information on the winner of the Super Bowl in 2025. For the latest sports news, please check a reliable sports news website or search engine.\""
      ]
     },
     "execution_count": 28,
     "metadata": {},
     "output_type": "execute_result"
    }
   ],
   "source": [
    "from openai import OpenAI\n",
    "\n",
    "def qa_responder(question):\n",
    "    #step 2\n",
    "    client = OpenAI()    \n",
    "    \n",
    "    #step 3\n",
    "    #You are wikipedia assistant and answer my questions with facts.\n",
    "    completion = client.chat.completions.create(\n",
    "        model=\"gpt-4o-mini\",\n",
    "        messages=[\n",
    "            {\"role\": \"system\", \"content\": \"You are news summarizer that can look the latest news in google or other sources.\"},\n",
    "            {\n",
    "                \"role\": \"user\",\n",
    "                \"content\": question\n",
    "            }\n",
    "        ]\n",
    "    )\n",
    "\n",
    "\n",
    "    print(completion.choices[0].message.content)\n",
    "    return completion.choices[0].message.content\n",
    "\n",
<<<<<<< HEAD
    "create_member(connection, first_name, last_name, gender)\n",
    "\n",
    "\n",
    "connection = psycopg2.connect(\n",
    "dbname= config['postgres']['DB_NAME'],\n",
    "          user=config['postgres']['DB_USER'],\n",
    "          password=config['postgres']['DB_PASSWORD'],\n",
    "          host=config['postgres']['DB_HOST'],\n",
    "          port=config['postgres']['DB_PORT'],\n",
    "          sslmode= 'require'\n",
    "        )\n",
    "results = retrieve_members(connection = connection, email= email)\n",
    "if(results is None):\n",
    "    member_id = create_member(connection, first_name, last_name, email)\n",
    "else:\n",
    "    member_id=results[0][0]\n",
    "member_id = create_transaction(connection=connection, member_id= member_id, amount= amount, description= desc)"
=======
    "question = input(\"enter any question\")\n",
    "qa_responder(question)"
>>>>>>> 7a27871b3e391d78eec75e1fb2aa71342721236b
   ]
  },
  {
   "cell_type": "code",
   "execution_count": 18,
   "metadata": {},
   "outputs": [],
   "source": [
    "retrieve_members(connection)\n",
    "#retrieve_members(connection, 1)\n",
    "\n",
    "#retrieve_members(member_id=\"5\", connection=connection)\n",
    "\n",
    "#retrieve_members(member_id=5, connection=connection)\n",
    "\n",
    "#retrieve_members(member_id=1, connection=connection)"
   ]
  },
  {
   "cell_type": "code",
   "execution_count": 19,
   "metadata": {},
   "outputs": [
    {
     "name": "stdout",
     "output_type": "stream",
     "text": [
      "Record updated successfully!\n",
      "updated data\n"
     ]
    }
   ],
   "source": [
    "update_member(connection, 1, \"Raj\", \"updatedjackson\")"
   ]
  },
  {
   "cell_type": "code",
   "execution_count": null,
   "metadata": {},
   "outputs": [
    {
     "name": "stdout",
     "output_type": "stream",
     "text": [
      "Record deleted successfully!\n"
     ]
    }
   ],
   "source": [
    "delete_member(connection, 1)"
   ]
  }
 ],
 "metadata": {
  "kernelspec": {
   "display_name": "Python 3",
   "language": "python",
   "name": "python3"
  },
  "language_info": {
   "codemirror_mode": {
    "name": "ipython",
    "version": 3
   },
   "file_extension": ".py",
   "mimetype": "text/x-python",
   "name": "python",
   "nbconvert_exporter": "python",
   "pygments_lexer": "ipython3",
   "version": "3.13.1"
  }
 },
 "nbformat": 4,
 "nbformat_minor": 2
}
