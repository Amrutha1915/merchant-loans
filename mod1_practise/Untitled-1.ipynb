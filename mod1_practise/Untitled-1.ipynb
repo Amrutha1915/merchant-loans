{
 "cells": [
  {
   "cell_type": "code",
   "execution_count": null,
   "metadata": {},
   "outputs": [
    {
     "name": "stdout",
     "output_type": "stream",
     "text": [
      "Database connection successful!\n",
      "Table Created\n",
      "updated\n",
      "row\n",
      "Record updated successfully!\n",
      "updated data\n",
      "Record deleted successfully!\n"
     ]
    },
    {
     "ename": "",
     "evalue": "",
     "output_type": "error",
     "traceback": [
      "\u001b[1;31mThe Kernel crashed while executing code in the current cell or a previous cell. \n",
      "\u001b[1;31mPlease review the code in the cell(s) to identify a possible cause of the failure. \n",
      "\u001b[1;31mClick <a href='https://aka.ms/vscodeJupyterKernelCrash'>here</a> for more info. \n",
      "\u001b[1;31mView Jupyter <a href='command:jupyter.viewOutput'>log</a> for further details."
     ]
    }
   ],
   "source": [
    "import psycopg2\n",
    "connection =psycopg2.connect(\n",
    "dbname = \"neondb\",\n",
    "user = \"neondb_owner\",\n",
    "password = \"npg_hKLaOPy9vs2l\",\n",
    "host = \"ep-blue-sky-a4haw4w1-pooler.us-east-1.aws.neon.tech\", # Change if using a remote server #localhost\n",
    "port = \"5432\"\n",
    ")\n",
    "print(\"Database connection successful!\")\n",
    "\n",
    "def create_table(connection, table_name):\n",
    "    cursor = connection.cursor()\n",
    "    print('hi')\n",
    "    cursor.execute(\"\"\"\n",
    "CREATE TABLE IF NOT EXISTS account (\n",
    "             id SERIAL PRIMARY KEY,\n",
    "            first_name VARCHAR(100) NOT NULL,\n",
    "            last_name VARCHAR(100) NOT NULL,\n",
    "            gender VARCHAR(10));\"\"\")\n",
    "    connection.commit()\n",
    "print(\"Table Created\")\n",
    "   \n",
    "\n",
    "\n",
    "def create_member(connection, name, age, membership_type):\n",
    "    cursor = connection.cursor()\n",
    "    cursor.execute(\"\"\"INSERT INTO account (name, age, membership_type)\n",
    "VALUES (%s, %s, %s);\n",
    "\"\"\", (\"Alice\", 30, \"Premium\"),\n",
    "      (\"Robert\", 31, \"gold\"),\n",
    "      (\"Alex\", 32, \"silver\"))\n",
    "    connection.commit()\n",
    "print(\"updated\")\n",
    "\n",
    "\n",
    "def retrieve_members(connection, membership_type=None):\n",
    "     cursor = connection.cursor()\n",
    "     cursor.execute(\"SELECT * FROM account;\")\n",
    "     query = \"SELECT * FROM account; \"\n",
    "     cursor.execute(query)\n",
    "     rows = cursor.fetchall()\n",
    "     connection.commit()\n",
    "print (\"row\")\n",
    "\n",
    "    #for row in rows:\n",
    "    # print(row)\n",
    "\n",
    "\n",
    "def update_member(connection, name, age, membership_type):\n",
    "      cursor = connection.cursor()\n",
    "      cursor.execute(\"\"\"\n",
    "    UPDATE account\n",
    " set where age= int(35)\n",
    "where name=\"alice\";\n",
    "  \"\"\",(name,age)) \n",
    "      connection.commit()\n",
    "print(\"Record updated successfully!\")\n",
    "print(\"updated data\")\n",
    "\n",
    "def update_member(connection, name, age, membership_type):\n",
    "    cursor = connection.cursor()\n",
    "    cursor.execute(\"\"\" \n",
    "   Delete  from memebers\n",
    "   where name=\"alice\"\n",
    " \"\"\")\n",
    "    connection.commit()\n",
    "print(\"Record deleted successfully!\")\n"
   ]
  },
  {
   "cell_type": "code",
   "execution_count": 103,
   "metadata": {},
   "outputs": [],
   "source": [
    "import psycopg2"
   ]
  },
  {
   "cell_type": "code",
   "execution_count": 114,
   "metadata": {},
   "outputs": [
    {
     "name": "stdout",
     "output_type": "stream",
     "text": [
      "7\n"
     ]
    }
   ],
   "source": [
    "\n",
    "\n",
    "add = lambda x, y: x + y\n",
    "print(add(3, 4))\n",
    "\n",
    "\n",
    "\n"
   ]
  },
  {
   "cell_type": "code",
   "execution_count": 104,
   "metadata": {},
   "outputs": [],
   "source": [
    "def create_member(connection, name, age, membership_type):\n",
    "    cursor = connection.cursor()\n",
    "    cursor.execute(\"\"\"\n",
    "INSERT INTO account (name, age, membership_type)\n",
    "VALUES (%s, %s, %s);\n",
    "\"\"\", (\"Alice\", 30, \"Premium\"),\n",
    "      (\"Robert\", 31, \"gold\"),\n",
    "      (\"Alex\", 32, \"silver\"))\n",
    "    connection.commit()"
   ]
  },
  {
   "cell_type": "code",
   "execution_count": 105,
   "metadata": {},
   "outputs": [],
   "source": [
    "def retrieve_members(connection, membership_type=None):\n",
    "    cursor = connection.cursor()\n",
    "    cursor.execute(\"SELECT * FROM account;\")\n",
    "    query = f\"SELECT * FROM account; \"\n",
    "    cursor.execute(query)\n",
    "    rows = cursor.fetchall()\n",
    "    connection.commit()\n",
    "    print(rows)\n",
    "    for row in rows:\n",
    "     print(row)\n",
    "    \n"
   ]
  },
  {
   "cell_type": "code",
   "execution_count": 106,
   "metadata": {},
   "outputs": [
    {
     "name": "stdout",
     "output_type": "stream",
     "text": [
      "Record updated successfully!\n",
      "updated data\n"
     ]
    }
   ],
   "source": [
    "def update_member(connection, name, age, membership_type):\n",
    "    cursor = connection.cursor()\n",
    "    cursor.execute(\"\"\"\n",
    "    UPDATE account\n",
    " set where age= int(35)\n",
    "where name=\"alice\";\n",
    "  \"\"\",(name,age)) \n",
    "    connection.commit()\n",
    "print(\"Record updated successfully!\")\n",
    "print(\"updated data\")                \n",
    "                   "
   ]
  },
  {
   "cell_type": "code",
   "execution_count": 107,
   "metadata": {},
   "outputs": [
    {
     "name": "stdout",
     "output_type": "stream",
     "text": [
      "Record deleted successfully!\n"
     ]
    }
   ],
   "source": [
    "def update_member(connection, name, age, membership_type):\n",
    "    cursor = connection.cursor()\n",
    "    cursor.execute(\"\"\" \n",
    "   Delete  from memebers\n",
    "   where name=\"alice\"\n",
    " \"\"\")\n",
    "    connection.commit()\n",
    "print(\"Record deleted successfully!\")\n",
    "\n",
    "\n",
    "                   "
   ]
  },
  {
   "cell_type": "code",
   "execution_count": 115,
   "metadata": {},
   "outputs": [],
   "source": [
    "def greet(name):\n",
    "    return f\"Hello, {name}!\""
   ]
  }
 ],
 "metadata": {
  "kernelspec": {
   "display_name": "Python 3",
   "language": "python",
   "name": "python3"
  },
  "language_info": {
   "codemirror_mode": {
    "name": "ipython",
    "version": 3
   },
   "file_extension": ".py",
   "mimetype": "text/x-python",
   "name": "python",
   "nbconvert_exporter": "python",
   "pygments_lexer": "ipython3",
   "version": "3.13.1"
  }
 },
 "nbformat": 4,
 "nbformat_minor": 2
}
