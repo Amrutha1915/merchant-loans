{
 "cells": [
  {
   "cell_type": "markdown",
   "metadata": {},
   "source": []
  },
  {
   "cell_type": "code",
   "execution_count": 10,
   "metadata": {},
   "outputs": [],
   "source": [
    "import configparser\n"
   ]
  },
  {
   "cell_type": "code",
   "execution_count": 12,
   "metadata": {},
   "outputs": [
    {
     "name": "stdout",
     "output_type": "stream",
     "text": [
      "Requirement already satisfied: oracledb in c:\\users\\harsh\\appdata\\local\\programs\\python\\python313\\lib\\site-packages (2.5.1)\n",
      "Requirement already satisfied: cryptography>=3.2.1 in c:\\users\\harsh\\appdata\\local\\programs\\python\\python313\\lib\\site-packages (from oracledb) (44.0.1)\n",
      "Requirement already satisfied: cffi>=1.12 in c:\\users\\harsh\\appdata\\local\\programs\\python\\python313\\lib\\site-packages (from cryptography>=3.2.1->oracledb) (1.17.1)\n",
      "Requirement already satisfied: pycparser in c:\\users\\harsh\\appdata\\local\\programs\\python\\python313\\lib\\site-packages (from cffi>=1.12->cryptography>=3.2.1->oracledb) (2.22)\n",
      "Note: you may need to restart the kernel to use updated packages.\n"
     ]
    },
    {
     "name": "stderr",
     "output_type": "stream",
     "text": [
      "\n",
      "[notice] A new release of pip is available: 25.0 -> 25.0.1\n",
      "[notice] To update, run: python.exe -m pip install --upgrade pip\n"
     ]
    }
   ],
   "source": [
    "%pip install oracledb\n"
   ]
  },
  {
   "cell_type": "code",
   "execution_count": null,
   "metadata": {},
   "outputs": [],
   "source": [
    "import oracledb\n",
    "\n",
    "import pandas as pd"
   ]
  },
  {
   "cell_type": "code",
   "execution_count": null,
   "metadata": {},
   "outputs": [
    {
     "name": "stdout",
     "output_type": "stream",
     "text": [
      "   ID      Name Gender\n",
      "0   1  MATTHEWS      M\n",
      "1   2     ANGEL      F\n",
      "2   3     JAMES      M\n",
      "3   4    JOSPEH      M\n",
      "4   5    MARINA      F\n",
      "   ID Location             Mail_id\n",
      "0   1       CA  Matthews@gmail.com\n",
      "1   5       AL     MARINA@MAIL.COM\n",
      "2   3       FL     James@gmail.com\n",
      "3   9       GA        abc@mail.com\n",
      "4   8       TN            mail.com\n"
     ]
    }
   ],
   "source": [
    "import pandas as pd\n",
    "\n",
    "#creating a data frame employee\n",
    "table1 ={'ID': [1, 2, 3, 4, 5],\n",
    "         'Name': ['MATTHEWS','ANGEL', 'JAMES', 'JOSPEH','MARINA'],\n",
    "         'Gender' :['M','F','M','M','F']}\n",
    "employee= pd.DataFrame(table1)\n",
    "\n",
    "# creating a data frame employee_details\n",
    "table2={'ID': [1, 5, 3, 9, 8],\n",
    "        'Location': ['CA','AL','FL','GA','TN'],\n",
    "          'Mail_id':['Matthews@gmail.com','MARINA@MAIL.COM','James@gmail.com', 'abc@mail.com', 'mail.com']}\n",
    "employee_details= pd. DataFrame(table2)\n",
    "\n",
    "\n",
    "print(employee)\n",
    "print(employee_details)\n",
    "\n",
    "\n",
    "\n",
    "\n",
    "\n",
    "\n"
   ]
  },
  {
   "cell_type": "code",
   "execution_count": 34,
   "metadata": {},
   "outputs": [
    {
     "name": "stdout",
     "output_type": "stream",
     "text": [
      "Database connection successful!\n",
      "\n"
     ]
    }
   ],
   "source": [
    "import psycopg2\n",
    "\n",
    "DB_NAME = \"postgres\"\n",
    "DB_USER = \"postgres\"\n",
    "DB_PASSWORD = \"Saibaba.1915\"\n",
    "DB_HOST = \"localhost\"  # Change if using a remote server #localhost\n",
    "DB_PORT = \"5433\"       # Default PostgreSQL port\n",
    "# Establishing the connection\n",
    "\n",
    "\n",
    "try:\n",
    "    connection = psycopg2.connect(\n",
    "        dbname=\"postgres\",\n",
    "        user=\"postgres\",\n",
    "        password=\"Saibaba.1915\",\n",
    "        host=\"localhost\",\n",
    "        port=\"5433\"\n",
    "    )\n",
    "    print(\"Database connection successful!\")\n",
    "except Exception as e:\n",
    "   print(\"Error connecting to the database:\", e)\n",
    "cursor = connection.cursor()\n",
    "query=\"select * from accounts;\"\n",
    "cursor.execute(\"SELECT * from accounts;\")\n",
    "\n",
    "print()\n",
    "\n",
    "cursor.close()\n",
    "connection.close()\n",
    "\n",
    "\n",
    "\n"
   ]
  },
  {
   "cell_type": "code",
   "execution_count": 61,
   "metadata": {},
   "outputs": [],
   "source": [
    "import configparser\n",
    "# Initialize the config parser\n",
    "config = configparser.ConfigParser()\n",
    "config.read('credentials.cfg')\n",
    "\n",
    "import psycopg2\n"
   ]
  },
  {
   "cell_type": "code",
   "execution_count": 46,
   "metadata": {},
   "outputs": [
    {
     "name": "stdout",
     "output_type": "stream",
     "text": [
      "Database connection successful!\n",
      "Table created successfully!\n",
      "Table created successfully!\n",
      "Table created successfully!\n"
     ]
    }
   ],
   "source": [
    "from manage_tables import create_table\n",
    "\n",
    "from members import create_member, retrieve_members, update_member, delete_member\n",
    "try:\n",
    " connection = psycopg2.connect(\n",
    "        dbname=DB_NAME,\n",
    "        user=DB_USER,\n",
    "        password=DB_PASSWORD,\n",
    "        host=DB_HOST,\n",
    "        port=DB_PORT\n",
    "        )\n",
    " print(\"Database connection successful!\")\n",
    "\n",
    "except Exception as e:\n",
    "\n",
    " print(\"Error connecting to the database:\", e)\n",
    "    \n",
    "create_table(connection = connection, table_name=\"members\")\n",
    "\n",
    "create_table( table_name=\"members\", connection = connection)\n",
    "\n",
    "create_table(connection, \"accounts\")\n",
    "\n",
    "#create_table(\"accounts\", connection) # valid or invalid? #run is not successful"
   ]
  },
  {
   "cell_type": "code",
   "execution_count": 69,
   "metadata": {},
   "outputs": [
    {
     "name": "stdout",
     "output_type": "stream",
     "text": [
      "Error connecting to the database: 'postgres'\n",
      "Database connection successful!\n",
      "Database connection successful!\n",
      "Table created successfully!\n",
      "Table created successfully!\n",
      "Table created successfully!\n"
     ]
    },
    {
     "ename": "TypeError",
     "evalue": "retrieve_members() got an unexpected keyword argument 'email'",
     "output_type": "error",
     "traceback": [
      "\u001b[1;31m---------------------------------------------------------------------------\u001b[0m",
      "\u001b[1;31mTypeError\u001b[0m                                 Traceback (most recent call last)",
      "Cell \u001b[1;32mIn[69], line 35\u001b[0m\n\u001b[0;32m     32\u001b[0m create_table(connection, \u001b[38;5;124m\"\u001b[39m\u001b[38;5;124mtransactions\u001b[39m\u001b[38;5;124m\"\u001b[39m)\n\u001b[0;32m     34\u001b[0m retrieve_members(connection)\n\u001b[1;32m---> 35\u001b[0m \u001b[43mretrieve_members\u001b[49m\u001b[43m(\u001b[49m\u001b[43mconnection\u001b[49m\u001b[43m \u001b[49m\u001b[38;5;241;43m=\u001b[39;49m\u001b[43m \u001b[49m\u001b[43mconnection\u001b[49m\u001b[43m,\u001b[49m\u001b[43m \u001b[49m\u001b[43memail\u001b[49m\u001b[38;5;241;43m=\u001b[39;49m\u001b[43m \u001b[49m\u001b[38;5;124;43m'\u001b[39;49m\u001b[38;5;124;43monea@gmail.com\u001b[39;49m\u001b[38;5;124;43m'\u001b[39;49m\u001b[43m)\u001b[49m\n",
      "\u001b[1;31mTypeError\u001b[0m: retrieve_members() got an unexpected keyword argument 'email'"
     ]
    }
   ],
   "source": [
    "from manage_tables import create_table\n",
    "\n",
    "from members import create_member, retrieve_members, update_member, delete_member\n",
    "\n",
    "try:\n",
    " connection = psycopg2.connect(\n",
    "   \n",
    "            dbname=config['postgres']['postres'],\n",
    "            user=config['postgres']['postgres'],\n",
    "            password=config['postgres']['Saibaba.1915'],\n",
    "            host=config['postgres']['local_host'],\n",
    "            port=config['postgres']['5433'],\n",
    "            sslmode= 'require'\n",
    " )\n",
    "\n",
    " print(\"Database connection successful!\")\n",
    " print(\"Database connection successful!\")\n",
    "\n",
    "except Exception as e:\n",
    "\n",
    " print(\"Error connecting to the database:\", e)\n",
    "\n",
    " print(\"Database connection successful!\")\n",
    " print(\"Database connection successful!\")\n",
    "except Exception as e:\n",
    "    print(\"Error connecting to the database:\", e)\n",
    "\n",
    "create_table(connection = connection, table_name=\"members\")\n",
    "\n",
    "create_table( table_name=\"members\", connection = connection)\n",
    "\n",
    "create_table(connection, \"transactions\")\n",
    "\n",
    "retrieve_members(connection)\n",
    "retrieve_members(connection = connection, email= 'onea@gmail.com')"
   ]
  },
  {
   "cell_type": "code",
   "execution_count": null,
   "metadata": {},
   "outputs": [],
   "source": [
    "import configparser as config"
   ]
  }
 ],
 "metadata": {
  "kernelspec": {
   "display_name": "Python 3",
   "language": "python",
   "name": "python3"
  },
  "language_info": {
   "codemirror_mode": {
    "name": "ipython",
    "version": 3
   },
   "file_extension": ".py",
   "mimetype": "text/x-python",
   "name": "python",
   "nbconvert_exporter": "python",
   "pygments_lexer": "ipython3",
   "version": "3.13.1"
  }
 },
 "nbformat": 4,
 "nbformat_minor": 2
}
