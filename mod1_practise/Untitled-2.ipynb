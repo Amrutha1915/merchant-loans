{
 "cells": [
  {
   "cell_type": "code",
   "execution_count": null,
   "metadata": {},
   "outputs": [
    {
     "name": "stdout",
     "output_type": "stream",
     "text": [
      "Database connection successful!\n",
      "tablecreated\n"
     ]
    }
   ],
   "source": [
    "import psycopg2\n",
    "connection =psycopg2.connect(\n",
    "dbname = \"postgres\",\n",
    "user = \"postgres\",\n",
    "password = \"Saibaba.1915\",\n",
    "host = \"localhost\", # Change if using a remote server #localhost\n",
    "port = \"5433\")\n",
    "print(\"Database connection successful!\")\n",
    "\n",
    "def create_table(connection,table_name):\n",
    "    cursor = connection.cursor\n",
    "    cursor.excute(\"\"\"\n",
    " CREATE TABLE IF NOT EXISTS accounts (\n",
    " id SERIAL PRIMARY KEY,\n",
    "        first_name VARCHAR(100) NOT NULL,\n",
    "        last_name VARCHAR(100) NOT NULL,\n",
    "          gender VARCHAR(10) );\"\"\")\n",
    "    connection.commit()\n",
    "print(\"tablecreated\")\n",
    "    \n"
   ]
  },
  {
   "cell_type": "code",
   "execution_count": 14,
   "metadata": {},
   "outputs": [
    {
     "name": "stdout",
     "output_type": "stream",
     "text": [
      "tablecreated\n"
     ]
    }
   ],
   "source": [
    "def create_table(connection,table_name):\n",
    "    cursor = connection.cursor\n",
    "    cursor.excute(\"\"\"\n",
    " CREATE TABLE IF NOT EXISTS accounts (\n",
    " id SERIAL PRIMARY KEY,\n",
    "        first_name VARCHAR(100) NOT NULL,\n",
    "        last_name VARCHAR(100) NOT NULL,\n",
    "          gender VARCHAR(10) );\"\"\")\n",
    "    connection.commit()\n",
    "print(\"tablecreated\")\n",
    "    "
   ]
  }
 ],
 "metadata": {
  "kernelspec": {
   "display_name": "Python 3",
   "language": "python",
   "name": "python3"
  },
  "language_info": {
   "codemirror_mode": {
    "name": "ipython",
    "version": 3
   },
   "file_extension": ".py",
   "mimetype": "text/x-python",
   "name": "python",
   "nbconvert_exporter": "python",
   "pygments_lexer": "ipython3",
   "version": "3.13.1"
  }
 },
 "nbformat": 4,
 "nbformat_minor": 2
}
