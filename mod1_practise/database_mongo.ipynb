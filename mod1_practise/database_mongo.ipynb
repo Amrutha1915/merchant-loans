{
 "cells": [
  {
   "cell_type": "markdown",
   "metadata": {},
   "source": [
    "Install Drivers required for Mongo Database"
   ]
  },
  {
   "cell_type": "code",
   "execution_count": 10,
   "metadata": {},
   "outputs": [
    {
     "name": "stdout",
     "output_type": "stream",
     "text": [
      "Requirement already satisfied: pymongo in /opt/homebrew/lib/python3.11/site-packages (4.11)\n",
      "Requirement already satisfied: dnspython in /opt/homebrew/lib/python3.11/site-packages (2.7.0)\n",
      "\n",
      "\u001b[1m[\u001b[0m\u001b[34;49mnotice\u001b[0m\u001b[1;39;49m]\u001b[0m\u001b[39;49m A new release of pip is available: \u001b[0m\u001b[31;49m24.3.1\u001b[0m\u001b[39;49m -> \u001b[0m\u001b[32;49m25.0\u001b[0m\n",
      "\u001b[1m[\u001b[0m\u001b[34;49mnotice\u001b[0m\u001b[1;39;49m]\u001b[0m\u001b[39;49m To update, run: \u001b[0m\u001b[32;49mpython3.11 -m pip install --upgrade pip\u001b[0m\n",
      "Note: you may need to restart the kernel to use updated packages.\n",
      "Requirement already satisfied: pymongo[srv] in /opt/homebrew/lib/python3.11/site-packages (4.11)\n",
      "\u001b[33mWARNING: pymongo 4.11 does not provide the extra 'srv'\u001b[0m\u001b[33m\n",
      "\u001b[0mRequirement already satisfied: dnspython<3.0.0,>=1.16.0 in /opt/homebrew/lib/python3.11/site-packages (from pymongo[srv]) (2.7.0)\n",
      "\n",
      "\u001b[1m[\u001b[0m\u001b[34;49mnotice\u001b[0m\u001b[1;39;49m]\u001b[0m\u001b[39;49m A new release of pip is available: \u001b[0m\u001b[31;49m24.3.1\u001b[0m\u001b[39;49m -> \u001b[0m\u001b[32;49m25.0\u001b[0m\n",
      "\u001b[1m[\u001b[0m\u001b[34;49mnotice\u001b[0m\u001b[1;39;49m]\u001b[0m\u001b[39;49m To update, run: \u001b[0m\u001b[32;49mpython3.11 -m pip install --upgrade pip\u001b[0m\n",
      "Note: you may need to restart the kernel to use updated packages.\n"
     ]
    }
   ],
   "source": [
    "%pip install pymongo dnspython\n",
    "%pip install \"pymongo[srv]\""
   ]
  },
  {
   "cell_type": "code",
   "execution_count": 24,
   "metadata": {},
   "outputs": [
    {
     "name": "stdout",
     "output_type": "stream",
     "text": [
      "Pinged your deployment. You successfully connected to MongoDB!\n"
     ]
    }
   ],
   "source": [
    "import pymongo\n",
    "from pymongo.mongo_client import MongoClient\n",
    "\n",
    "from pymongo.server_api import ServerApi\n",
    "\n",
    "uri =\"mongodb+srv://<USERNAME>:<PASSWORD>@cluster0.fwjwg.mongodb.net/?retryWrites=true&w=majority&appName=Cluster0\"\n",
    "client = MongoClient(uri, server_api=ServerApi('1'))\n",
    "\n",
    "\n",
    "try:\n",
    "    client.admin.command('ping')\n",
    "    print(\"Pinged your deployment. You successfully connected to MongoDB!\")\n",
    "except Exception as e:\n",
    "    print(e)\n",
    "\n",
    "db = client.finbloom\n",
    "\n",
    "my_collection = db[\"members_test\"]\n"
   ]
  },
  {
   "cell_type": "code",
   "execution_count": 28,
   "metadata": {},
   "outputs": [],
   "source": [
    "member = {\n",
    "            \"fname\":\"rajdemoshort\", \"lame\":\"kristshorta\", \"gender\":\"Male\"\n",
    "}\n",
    "result = my_collection.insert_one(member)"
   ]
  },
  {
   "cell_type": "code",
   "execution_count": null,
   "metadata": {},
   "outputs": [
    {
     "name": "stdout",
     "output_type": "stream",
     "text": [
      "I inserted 3 documents.\n",
      "\n",
      "\n"
     ]
    }
   ],
   "source": [
    "import sys\n",
    "\n",
    "member = {\n",
    "            \"fname\":\"rajdemoshort\", \"lame\":\"kristshorta\", \"gender\":\"Male\"\n",
    "}\n",
    "result = my_collection.insert_one(member)\n",
    "\n",
    "member_documents = [{\n",
    "            \"fname\":\"rajdemo\", \"laname\":\"krista\", \"gender\":\"Male\"\n",
    "}, {\n",
    "            \"first_name\":\"rajdemo2\", \"last_name\":\"krista2\", \"gender\":\"Male\"\n",
    "}, {\n",
    "            \"first_name\":\"rajdemo3\", \"last_name\":\"krista3\", \"gender\":\"Male\"\n",
    "}]\n",
    "\n",
    "try: \n",
    "  result = my_collection.insert_many(member_documents)\n",
    "\n",
    "# return a friendly error if the operation fails\n",
    "except pymongo.errors.OperationFailure:\n",
    "  print(\"An authentication error was received. Are you sure your database user is authorized to perform write operations?\")\n",
    "  sys.exit(1)\n",
    "else:\n",
    "  inserted_count = len(result.inserted_ids)\n",
    "  print(\"I inserted %x documents.\" %(inserted_count))\n",
    "\n",
    "  print(\"\\n\")"
   ]
  },
  {
   "cell_type": "code",
   "execution_count": 29,
   "metadata": {},
   "outputs": [
    {
     "name": "stdout",
     "output_type": "stream",
     "text": [
      "member details: rajdemo, krista\n",
      "member details: rajdemo, krista\n",
      "member details: rajdemo, krista\n",
      "member details: rajdemo, krista\n",
      "member details: rajdemo2, krista2\n",
      "member details: rajdemo3, krista3\n"
     ]
    },
    {
     "ename": "KeyError",
     "evalue": "'first_name'",
     "output_type": "error",
     "traceback": [
      "\u001b[0;31m---------------------------------------------------------------------------\u001b[0m",
      "\u001b[0;31mKeyError\u001b[0m                                  Traceback (most recent call last)",
      "Cell \u001b[0;32mIn[29], line 5\u001b[0m\n\u001b[1;32m      3\u001b[0m \u001b[38;5;28;01mif\u001b[39;00m result:    \n\u001b[1;32m      4\u001b[0m   \u001b[38;5;28;01mfor\u001b[39;00m doc \u001b[38;5;129;01min\u001b[39;00m result:\n\u001b[0;32m----> 5\u001b[0m     doc_first_name \u001b[38;5;241m=\u001b[39m \u001b[43mdoc\u001b[49m\u001b[43m[\u001b[49m\u001b[38;5;124;43m'\u001b[39;49m\u001b[38;5;124;43mfirst_name\u001b[39;49m\u001b[38;5;124;43m'\u001b[39;49m\u001b[43m]\u001b[49m\n\u001b[1;32m      6\u001b[0m     doc_last_name \u001b[38;5;241m=\u001b[39m doc[\u001b[38;5;124m'\u001b[39m\u001b[38;5;124mlast_name\u001b[39m\u001b[38;5;124m'\u001b[39m]\n\u001b[1;32m      7\u001b[0m     \u001b[38;5;28mprint\u001b[39m(\u001b[38;5;124m\"\u001b[39m\u001b[38;5;124mmember details: \u001b[39m\u001b[38;5;132;01m%s\u001b[39;00m\u001b[38;5;124m, \u001b[39m\u001b[38;5;132;01m%s\u001b[39;00m\u001b[38;5;124m\"\u001b[39m \u001b[38;5;241m%\u001b[39m(doc_first_name, doc_last_name))\n",
      "\u001b[0;31mKeyError\u001b[0m: 'first_name'"
     ]
    }
   ],
   "source": [
    "result = my_collection.find()\n",
    "\n",
    "if result:    \n",
    "  for doc in result:\n",
    "    doc_first_name = doc['first_name']\n",
    "    doc_last_name = doc['last_name']\n",
    "    print(\"member details: %s, %s\" %(doc_first_name, doc_last_name))\n",
    "    \n",
    "else:\n",
    "  print(\"No documents found.\")"
   ]
  },
  {
   "cell_type": "code",
   "execution_count": null,
   "metadata": {},
   "outputs": [],
   "source": [
    "\n"
   ]
  }
 ],
 "metadata": {
  "kernelspec": {
   "display_name": "Python 3",
   "language": "python",
   "name": "python3"
  },
  "language_info": {
   "codemirror_mode": {
    "name": "ipython",
    "version": 3
   },
   "file_extension": ".py",
   "mimetype": "text/x-python",
   "name": "python",
   "nbconvert_exporter": "python",
   "pygments_lexer": "ipython3",
   "version": "3.11.11"
  }
 },
 "nbformat": 4,
 "nbformat_minor": 2
}
