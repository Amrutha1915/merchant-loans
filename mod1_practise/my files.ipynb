{
 "cells": [
  {
   "cell_type": "code",
   "execution_count": 24,
   "metadata": {},
   "outputs": [
    {
     "name": "stdout",
     "output_type": "stream",
     "text": [
      "db connected created successfully!\n",
      "table created successfully\n",
      "PostgreSQL version: ('PostgreSQL 13.18, compiled by Visual C++ build 1942, 64-bit',)\n",
      "Database connection closed.\n"
     ]
    }
   ],
   "source": [
    "import psycopg2\n",
    "\n",
    "\n",
    "\n",
    "# database Details\n",
    "connection = psycopg2.connect(\n",
    "        dbname=\"postgres\",\n",
    "        user=\"postgres\",\n",
    "        password=\"Saibaba.1915\",\n",
    "        host=\"localhost\",\n",
    "        port=\"5433\"\n",
    "    \n",
    ")\n",
    "\n",
    "# Establishing the Connection\n",
    "try:\n",
    "  connection=psycopg2.connect(\n",
    "        dbname=\"postgres\",\n",
    "        user=\"postgres\",\n",
    "        password=\"Saibaba.1915\",\n",
    "        host=\"localhost\",\n",
    "        port=\"5433\"\n",
    "    \n",
    ")\n",
    "\n",
    "  print(\"db connected created successfully!\")\n",
    "except Exception as e: \n",
    "\n",
    "  print(\"error in connection\")\n",
    "\n",
    "\n",
    "  \n",
    "\n",
    "\n",
    "  # Creating a cursor to execute the query\n",
    "  #creating a table\n",
    "\n",
    "\n",
    "def create_table(connection,table_name):\n",
    " cursor = connection.cursor()\n",
    " if(table_name  == 'employee'):\n",
    "          cursor.execute(\"\"\" \n",
    "            create table if not exist employee(\n",
    "              id serial primary key ,\n",
    "              name varchar(30) Not Null ,\n",
    "              gender varchar(10) Not Null); \n",
    "     \"\"\")\n",
    "   \n",
    "connection.commit()\n",
    "print(\"table created successfully\")\n",
    "\n",
    "\n",
    "#2.3 Creating a Cursor Object and Executing Queries\n",
    "#Once connected, a cursor object is used to execute SQL queries:\n",
    "\n",
    "cursor = connection.cursor()\n",
    "cursor.execute(\"SELECT version();\")\n",
    "print(\"PostgreSQL version:\", cursor.fetchone())\n",
    "\n",
    "#2.4 Closing the Connection\n",
    "#After performing database operations, always close* the connection:\n",
    "cursor.close()\n",
    "connection.close()\n",
    "print(\"Database connection closed.\")\n"
   ]
  },
  {
   "cell_type": "code",
   "execution_count": 2,
   "metadata": {},
   "outputs": [
    {
     "name": "stdout",
     "output_type": "stream",
     "text": [
      "Error connecting to the database: 'postgres'\n"
     ]
    }
   ],
   "source": [
    "\n",
    "import psycopg2\n",
    "import configparser\n",
    "import configparser\n",
    "# Initialize the config parser\n",
    "config = configparser.ConfigParser()\n",
    "config.read('credentials.cfg')\n",
    "\n",
    "connection = psycopg2.connect(\n",
    "        dbname=\"postgres\",\n",
    "        user=\"postgres\",\n",
    "        password=\"Saibaba.1915\",\n",
    "        host=\"localhost\",\n",
    "        port=\"5433\"\n",
    ")\n",
    "\n",
    "\n",
    "id = [1,2,3,4,5]\n",
    "name = ['john','michel','stephn','marry','angel']\n",
    "gender = ['F','F','F','M','M']\n",
    "\n",
    "try:\n",
    " connection = psycopg2.connect(\n",
    "          dbname= config['postgres']['postgres'],\n",
    "          user=config['postgres']['postgres'],\n",
    "          password=config['postgres']['Saibaba.1915'],\n",
    "          host=config['postgres']['localhost'],\n",
    "          port=config['postgres']['5433'],\n",
    "          sslmode= 'require'\n",
    "        )\n",
    "\n",
    " print(\"Database connection successful!\")\n",
    " print(\"Database connection successful!\")\n",
    "\n",
    "except Exception as e:\n",
    "\n",
    " print(\"Error connecting to the database:\", e)\n",
    "\n",
    "\n",
    "\n",
    "\n",
    "\n"
   ]
  },
  {
   "cell_type": "code",
   "execution_count": 20,
   "metadata": {},
   "outputs": [
    {
     "name": "stdout",
     "output_type": "stream",
     "text": [
      "Table created successfully!\n"
     ]
    }
   ],
   "source": [
    "def create_table(connection, table_name):\n",
    " cursor = connection.cursor()\n",
    " if(table_name == 'members'):\n",
    "        cursor.execute(\"\"\"\n",
    "        CREATE TABLE IF NOT EXISTS employee (\n",
    "            id SERIAL PRIMARY KEY,\n",
    "            first_name VARCHAR(100) NOT NULL,\n",
    "            last_name VARCHAR(100) NOT NULL,\n",
    "            gender VARCHAR(10)\n",
    "        );\n",
    "        \"\"\")\n",
    "connection.commit()\n",
    "\n",
    "print(\"Table created successfully!\")"
   ]
  },
  {
   "cell_type": "code",
   "execution_count": 21,
   "metadata": {},
   "outputs": [
    {
     "ename": "ModuleNotFoundError",
     "evalue": "No module named 'employee'",
     "output_type": "error",
     "traceback": [
      "\u001b[1;31m---------------------------------------------------------------------------\u001b[0m",
      "\u001b[1;31mModuleNotFoundError\u001b[0m                       Traceback (most recent call last)",
      "Cell \u001b[1;32mIn[21], line 1\u001b[0m\n\u001b[1;32m----> 1\u001b[0m \u001b[38;5;28;01mfrom\u001b[39;00m\u001b[38;5;250m \u001b[39m\u001b[38;5;21;01memployee\u001b[39;00m\u001b[38;5;250m \u001b[39m\u001b[38;5;28;01mimport\u001b[39;00m create_member, retrieve_members, update_member, delete_member\n",
      "\u001b[1;31mModuleNotFoundError\u001b[0m: No module named 'employee'"
     ]
    }
   ],
   "source": [
    "from employee import create_member, retrieve_members, update_member, delete_member\n"
   ]
  }
 ],
 "metadata": {
  "kernelspec": {
   "display_name": "Python 3",
   "language": "python",
   "name": "python3"
  },
  "language_info": {
   "codemirror_mode": {
    "name": "ipython",
    "version": 3
   },
   "file_extension": ".py",
   "mimetype": "text/x-python",
   "name": "python",
   "nbconvert_exporter": "python",
   "pygments_lexer": "ipython3",
   "version": "3.13.1"
  }
 },
 "nbformat": 4,
 "nbformat_minor": 2
}
